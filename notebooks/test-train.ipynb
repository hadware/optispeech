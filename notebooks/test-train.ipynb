{
 "cells": [
  {
   "cell_type": "markdown",
   "metadata": {},
   "source": [
    "## OptiSpeech Training: HFC-Female (en-US)\n",
    "This notebook allows you to train [OptiSpeech TTS](https://github.com/mush42/optispeech) on [HiFiCaptin en-US female dataset](https://ast-astrec.nict.go.jp/en/release/hi-fi-captain/)\n"
   ]
  },
  {
   "cell_type": "markdown",
   "metadata": {},
   "source": [
    "## Plumming"
   ]
  },
  {
   "cell_type": "markdown",
   "metadata": {},
   "source": [
    "## Preprocess Dataset"
   ]
  },
  {
   "cell_type": "code",
   "metadata": {
    "vscode": {
     "languageId": "plaintext"
    },
    "ExecuteTime": {
     "end_time": "2024-09-25T16:23:36.817784Z",
     "start_time": "2024-09-25T16:22:52.081709Z"
    }
   },
   "source": [
    "!python -m optispeech.tools.preprocess_dataset \\\n",
    "    --format ljspeech \\\n",
    "    hfc_female-en_us \\\n",
    "    datasets/hfc_female-en_us \\\n",
    "    preprocessed/hfc_female-en_us\n",
    "\n"
   ],
   "outputs": [
    {
     "name": "stdout",
     "output_type": "stream",
     "text": [
      "INFO 2024/09/25 18:22:54:  Extracting datasplit `train`\r\n",
      "INFO 2024/09/25 18:22:54:  Found 12529 utterances in file.\r\n",
      "processing:   0%|                              | 0/12529 [00:00<?, ?utterance/s]\r\n",
      "fcnf0++.pt:   0%|                                    | 0.00/107M [00:00<?, ?B/s]\u001B[A\r\n",
      "fcnf0++.pt:  10%|██▋                        | 10.5M/107M [00:00<00:02, 40.8MB/s]\u001B[A\r\n",
      "fcnf0++.pt:  20%|█████▎                     | 21.0M/107M [00:00<00:01, 50.7MB/s]\u001B[A\r\n",
      "fcnf0++.pt:  29%|███████▉                   | 31.5M/107M [00:00<00:01, 58.9MB/s]\u001B[A\r\n",
      "fcnf0++.pt:  39%|██████████▌                | 41.9M/107M [00:00<00:01, 57.8MB/s]\u001B[A\r\n",
      "fcnf0++.pt:  49%|█████████████▏             | 52.4M/107M [00:00<00:00, 63.4MB/s]\u001B[A\r\n",
      "fcnf0++.pt:  59%|███████████████▊           | 62.9M/107M [00:01<00:00, 65.7MB/s]\u001B[A\r\n",
      "fcnf0++.pt:  68%|██████████████████▍        | 73.4M/107M [00:01<00:00, 67.9MB/s]\u001B[A\r\n",
      "fcnf0++.pt:  78%|█████████████████████      | 83.9M/107M [00:01<00:00, 66.8MB/s]\u001B[A\r\n",
      "fcnf0++.pt:  88%|███████████████████████▊   | 94.4M/107M [00:01<00:00, 67.5MB/s]\u001B[A\r\n",
      "fcnf0++.pt: 100%|████████████████████████████| 107M/107M [00:01<00:00, 64.1MB/s]\u001B[A\r\n",
      "processing:   1%|                   | 68/12529 [00:41<1:55:54,  1.79utterance/s]^C\r\n"
     ]
    }
   ],
   "execution_count": 2
  },
  {
   "metadata": {},
   "cell_type": "code",
   "outputs": [],
   "execution_count": null,
   "source": [
    "python -m optispeech.tools.preprocess_dataset \\\n",
    "    --format ljspeech \\\n",
    "    hfc_female-en_us \\\n",
    "    datasets/hfc_female-en_US_small \\\n",
    "    preprocessed/hfc_female-en_US_small"
   ]
  },
  {
   "cell_type": "markdown",
   "metadata": {},
   "source": [
    "## Enable Tensorboard"
   ]
  },
  {
   "cell_type": "code",
   "execution_count": null,
   "metadata": {
    "vscode": {
     "languageId": "plaintext"
    }
   },
   "outputs": [],
   "source": [
    "# Create log directory\n",
    "!mkdir -p /content/drive/MyDrive/optispeech/logs\n",
    "\n",
    "%load_ext tensorboard\n",
    "%tensorboard --logdir /content/drive/MyDrive/optispeech/logs\n"
   ]
  },
  {
   "cell_type": "markdown",
   "metadata": {},
   "source": [
    "## Start training"
   ]
  },
  {
   "cell_type": "code",
   "execution_count": null,
   "metadata": {
    "vscode": {
     "languageId": "plaintext"
    }
   },
   "outputs": [],
   "source": [
    "%cd /content/optispeech\n",
    "!python3 -m optispeech.train \\\n",
    "    experiment=\"hfc_female-en_us\" \\\n",
    "    data.train_filelist_path=\"preprocessed/hfc_female-en_us/train.txt\" \\\n",
    "    data.valid_filelist_path=\"preprocessed/hfc_female-en_us/val.txt\" \\\n",
    "    data.batch_size=64 \\\n",
    "    data.num_workers=2 \\\n",
    "    callbacks.model_checkpoint.every_n_epochs=500 \\\n",
    "    paths.log_dir=\"logs/\"\n",
    "  "
   ]
  },
  {
   "metadata": {},
   "cell_type": "code",
   "outputs": [],
   "execution_count": null,
   "source": [
    "%cd /content/optispeech\n",
    "!python3 -m optispeech.train \\\n",
    "    experiment=\"hfc_female-en_us_small\" \\\n",
    "    data.train_filelist_path=\"preprocessed/hfc_female-en_us_small/train.txt\" \\\n",
    "    data.valid_filelist_path=\"preprocessed/hfc_female-en_us_small/val.txt\" \\\n",
    "    data.batch_size=64 \\\n",
    "    data.num_workers=2 \\\n",
    "    callbacks.model_checkpoint.every_n_epochs=5 \\\n",
    "    paths.log_dir=\"logs/\"\n",
    "  "
   ]
  }
 ],
 "metadata": {
  "language_info": {
   "name": "python"
  },
  "kernelspec": {
   "name": "python3",
   "language": "python",
   "display_name": "Python 3 (ipykernel)"
  }
 },
 "nbformat": 4,
 "nbformat_minor": 2
}
